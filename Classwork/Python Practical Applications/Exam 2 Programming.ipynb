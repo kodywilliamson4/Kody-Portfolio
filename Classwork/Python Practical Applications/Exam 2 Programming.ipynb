{
 "cells": [
  {
   "cell_type": "code",
   "execution_count": 1,
   "metadata": {},
   "outputs": [
    {
     "data": {
      "text/plain": [
       "(2, 11)"
      ]
     },
     "execution_count": 1,
     "metadata": {},
     "output_type": "execute_result"
    }
   ],
   "source": [
    "from sympy import *\n",
    "\n",
    "import numpy as np\n",
    "\n",
    "%matplotlib inline\n",
    "\n",
    "import matplotlib.pyplot as plt\n",
    "\n",
    "import re\n",
    "\n",
    "w, x, y, z = symbols ('w, x, y, z')\n",
    "\n",
    "#Problem 2\n",
    "AminoAcidSequence='GQASALQRTCGQS'\n",
    "pattern = r\"[ASC]{3,5}[LI][^P]{2,5}\"\n",
    "r1 = re.search(pattern, AminoAcidSequence)\n",
    "r1.span()\n",
    "\n",
    "#Problem 3\n",
    "eq1 = x*x\n",
    "e12 = x + 5\n",
    "\n",
    "fig, ax = plt.subplots(nrows=1, ncols=2)\n",
    "ax[0].set_title('Figure1')\n",
    "ax[0].plot(eq1)\n",
    "ax[1].set_xlabel('verticalAxis')\n",
    "ax[1].plot(eq2)\n"
   ]
  },
  {
   "cell_type": "code",
   "execution_count": null,
   "metadata": {},
   "outputs": [],
   "source": []
  }
 ],
 "metadata": {
  "kernelspec": {
   "display_name": "Python 3",
   "language": "python",
   "name": "python3"
  },
  "language_info": {
   "codemirror_mode": {
    "name": "ipython",
    "version": 3
   },
   "file_extension": ".py",
   "mimetype": "text/x-python",
   "name": "python",
   "nbconvert_exporter": "python",
   "pygments_lexer": "ipython3",
   "version": "3.8.5"
  }
 },
 "nbformat": 4,
 "nbformat_minor": 4
}
