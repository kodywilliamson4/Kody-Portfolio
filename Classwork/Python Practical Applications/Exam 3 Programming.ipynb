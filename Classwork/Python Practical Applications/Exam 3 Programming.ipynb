{
 "cells": [
  {
   "cell_type": "code",
   "execution_count": 24,
   "metadata": {},
   "outputs": [
    {
     "name": "stdout",
     "output_type": "stream",
     "text": [
      "1.8124611228107335 , -2.8207540608310198 , 0.018137235176105812 , 0.05\n",
      "We reject the null hypothesis that womens daily energy intake varies from the recommended value of 7725 kJ.\n"
     ]
    }
   ],
   "source": [
    "from sympy import *\n",
    "\n",
    "import numpy as np\n",
    "\n",
    "%matplotlib inline\n",
    "\n",
    "import matplotlib.pyplot as plt\n",
    "\n",
    "import re\n",
    "\n",
    "w, x, y, z = symbols ('w, x, y, z')\n",
    "\n",
    "from pyomo.environ import *\n",
    "from pyomo.opt import SolverFactory\n",
    "\n",
    "from scipy import stats\n",
    "\n",
    "\n",
    "data = np.array([5260, 5470, 5640, 6180, 6390, 6515, 6805, 7515, 7515, 8230, 8770])\n",
    "ho = 7725\n",
    "alpha = .05\n",
    "\n",
    "results = stats.ttest_1samp(data, ho)\n",
    "pvalue = stats.t.cdf(x = results[0], df = len(data)-1) * 2\n",
    "crit = stats.t.ppf(1-alpha, len(data)-1)\n",
    "print(crit,',', results[0],',', pvalue,',', alpha)\n",
    "if(pvalue < alpha):\n",
    "    print('We reject the null hypothesis that womens daily energy intake varies from the recommended value of', ho, 'kJ.')\n",
    "else:\n",
    "    print('We are unable to reject the null hypothesis that womens daily energy intake varies from the recommended value of', ho, 'kJ.')"
   ]
  },
  {
   "cell_type": "code",
   "execution_count": null,
   "metadata": {},
   "outputs": [],
   "source": []
  }
 ],
 "metadata": {
  "kernelspec": {
   "display_name": "Python 3",
   "language": "python",
   "name": "python3"
  },
  "language_info": {
   "codemirror_mode": {
    "name": "ipython",
    "version": 3
   },
   "file_extension": ".py",
   "mimetype": "text/x-python",
   "name": "python",
   "nbconvert_exporter": "python",
   "pygments_lexer": "ipython3",
   "version": "3.8.5"
  }
 },
 "nbformat": 4,
 "nbformat_minor": 4
}
