{
 "cells": [
  {
   "cell_type": "code",
   "execution_count": 2,
   "metadata": {},
   "outputs": [
    {
     "data": {
      "image/png": "[encoded data removed]",
      "text/plain": [
       "<Figure size 432x288 with 1 Axes>"
      ]
     },
     "metadata": {
      "needs_background": "light"
     },
     "output_type": "display_data"
    }
   ],
   "source": [
    "import numpy as np\n",
    "import matplotlib.pyplot as plt\n",
    "import matplotlib.animation as animation\n",
    "\n",
    "fig, ax = plt.subplots()\n",
    "\n",
    "g = 9.8                                                        #value of gravity\n",
    "v = 10.0                                                       #initial velocity\n",
    "theta = 40.0 * np.pi / 180.0                                   #initial angle of launch in radians\n",
    "t = 2 * v * np.sin(theta) / g                                  \n",
    "t = np.arange(0, 0.1, 0.01)                                    #time of flight into an array\n",
    "x = np.arange(0, 0.1, 0.01)\n",
    "line, = ax.plot(x, v * np.sin(theta) * x - (0.5) * g * x**2)   # plot of x and y in time\n",
    "\n",
    "def animate(i):\n",
    "    \"\"\"change the divisor of i to get a faster (but less precise) animation \"\"\"\n",
    "    line.set_xdata(v * np.cos(theta) * (t + i /100.0))\n",
    "    line.set_ydata(v * np.sin(theta) * (x + i /100.0) - (0.5) * g * (x + i / 100.0)**2)  \n",
    "    return line,\n",
    "\n",
    "plt.axis([0.0, 10.0, 0.0, 5.0])\n",
    "ax.set_autoscale_on(False)\n",
    "\n",
    "ani = animation.FuncAnimation(fig, animate, np.arange(1, 200))\n",
    "plt.show()"
   ]
  },
  {
   "cell_type": "code",
   "execution_count": null,
   "metadata": {},
   "outputs": [],
   "source": []
  },
  {
   "cell_type": "code",
   "execution_count": null,
   "metadata": {},
   "outputs": [],
   "source": []
  }
 ],
 "metadata": {
  "kernelspec": {
   "display_name": "Python 3",
   "language": "python",
   "name": "python3"
  },
  "language_info": {
   "codemirror_mode": {
    "name": "ipython",
    "version": 3
   },
   "file_extension": ".py",
   "mimetype": "text/x-python",
   "name": "python",
   "nbconvert_exporter": "python",
   "pygments_lexer": "ipython3",
   "version": "3.8.5"
  }
 },
 "nbformat": 4,
 "nbformat_minor": 4
}
