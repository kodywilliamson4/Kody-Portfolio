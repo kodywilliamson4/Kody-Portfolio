{
 "cells": [
  {
   "cell_type": "code",
   "execution_count": 4,
   "metadata": {},
   "outputs": [
    {
     "name": "stdout",
     "output_type": "stream",
     "text": [
      "Null hypothesis:  XYZ 4-stroke jet skis last 293 hours under normal circumstances\n",
      "Alternative hypothesis:  XYZ 4-stroke jet skis last less than 293 hours under normal circumstances\n",
      "t-statistic =    nan pvalue =    nan\n",
      "Null hypothesis:  The difference in life satisfaction is higher in older adults than younger adults\n",
      "Alternative hypothesis:  The difference in life satisfaction isn't higher in older adults than younger adults\n"
     ]
    }
   ],
   "source": [
    "import numpy as np\n",
    "import math\n",
    "import statistics\n",
    "from scipy import stats\n",
    "\n",
    "#Problem 1\n",
    "normal = 293\n",
    "mean = 270\n",
    "std = 50\n",
    "n = 20\n",
    "alpha = .05\n",
    "null = \"XYZ 4-stroke jet skis last 293 hours under normal circumstances\"\n",
    "alt = \"XYZ 4-stroke jet skis last less than 293 hours under normal circumstances\"\n",
    "print(\"Null hypothesis: \",null)\n",
    "print(\"Alternative hypothesis: \",alt)\n",
    "print('t-statistic = %6.3f pvalue = %6.4f' %  stats.ttest_1samp(n, mean))\n",
    "\n",
    "\n",
    "#Problem 2\n",
    "alpha = .05\n",
    "null = \"The difference in life satisfaction is higher in older adults than younger adults\"\n",
    "alt = \"The difference in life satisfaction isn't higher in older adults than younger adults\"\n",
    "young = np.array([34, 22, 15, 27, 37, 41, 24, 19, 26, 36])\n",
    "old = np.array([45, 38, 52, 48, 25, 39, 51, 46, 55, 46])\n",
    "print(\"Null hypothesis: \",null)\n",
    "print(\"Alternative hypothesis: \",alt)"
   ]
  },
  {
   "cell_type": "code",
   "execution_count": null,
   "metadata": {},
   "outputs": [],
   "source": []
  }
 ],
 "metadata": {
  "kernelspec": {
   "display_name": "Python 3",
   "language": "python",
   "name": "python3"
  },
  "language_info": {
   "codemirror_mode": {
    "name": "ipython",
    "version": 3
   },
   "file_extension": ".py",
   "mimetype": "text/x-python",
   "name": "python",
   "nbconvert_exporter": "python",
   "pygments_lexer": "ipython3",
   "version": "3.8.5"
  }
 },
 "nbformat": 4,
 "nbformat_minor": 4
}
