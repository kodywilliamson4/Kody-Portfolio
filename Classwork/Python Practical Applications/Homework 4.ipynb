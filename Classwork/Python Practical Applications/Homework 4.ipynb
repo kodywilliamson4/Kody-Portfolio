{
 "cells": [
  {
   "cell_type": "code",
   "execution_count": 24,
   "metadata": {},
   "outputs": [
    {
     "data": {
      "image/png": "[encoded data removed]",
      "text/latex": [
       "$\\displaystyle 2 y + 7 z$"
      ],
      "text/plain": [
       "2⋅y + 7⋅z"
      ]
     },
     "metadata": {},
     "output_type": "display_data"
    },
    {
     "name": "stdout",
     "output_type": "stream",
     "text": [
      "[ 8  9 10 11 12]\n",
      "<bound method Series.count of a    0.0\n",
      "b    1.0\n",
      "c    2.0\n",
      "dtype: float64>\n"
     ]
    }
   ],
   "source": [
    "import numpy as np\n",
    "import matplotlib.pyplot as plt\n",
    "import matplotlib.ticker as tck\n",
    "import math\n",
    "import datetime as dt\n",
    "import pandas as pd\n",
    "import statistics\n",
    "from pandas_datareader import data, wb\n",
    "from suds.client import Client\n",
    "from scipy.integrate import odeint\n",
    "from sympy import *\n",
    "init_printing()\n",
    "%matplotlib inline\n",
    "\n",
    "x,y,z = symbols('x y z')\n",
    "expr = 2*x + 3*y + 4*z\n",
    "expr1 = expr.subs(y,z)\n",
    "expr2 = expr1.subs(x,y)\n",
    "display(expr2)\n",
    "\n",
    "abc = np.array([1, 2, 3, 4, 5, 6, 7, 8, 9, 10, 11, 12])\n",
    "print(abc[7:])\n",
    "\n",
    "s = pd.Series({'a' : 0., 'b' : 1., 'c' : 2.})\n",
    "print(s.count)"
   ]
  },
  {
   "cell_type": "code",
   "execution_count": null,
   "metadata": {},
   "outputs": [],
   "source": []
  },
  {
   "cell_type": "code",
   "execution_count": null,
   "metadata": {},
   "outputs": [],
   "source": []
  }
 ],
 "metadata": {
  "kernelspec": {
   "display_name": "Python 3",
   "language": "python",
   "name": "python3"
  },
  "language_info": {
   "codemirror_mode": {
    "name": "ipython",
    "version": 3
   },
   "file_extension": ".py",
   "mimetype": "text/x-python",
   "name": "python",
   "nbconvert_exporter": "python",
   "pygments_lexer": "ipython3",
   "version": "3.8.5"
  }
 },
 "nbformat": 4,
 "nbformat_minor": 4
}
