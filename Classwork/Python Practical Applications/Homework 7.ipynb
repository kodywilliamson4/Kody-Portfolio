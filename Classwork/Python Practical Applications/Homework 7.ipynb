{
 "cells": [
  {
   "cell_type": "code",
   "execution_count": 35,
   "metadata": {},
   "outputs": [
    {
     "name": "stdout",
     "output_type": "stream",
     "text": [
      "There are 3528 spectra\n",
      "There are 1389 spectra with msLevel 2\n",
      "There are 712 spectra with precursor m/z between 600 and 920 Da\n"
     ]
    }
   ],
   "source": [
    "# Problem 2 - This could easily allow the breakdown of very large datasets into usable smaller datasets with given ranges or aspects\n",
    "import xml.etree.ElementTree as ET\n",
    "\n",
    "#Creating ElementTree to start and getting root\n",
    "document = ET.parse (\"HW 7 Data 2.mzXML\")\n",
    "root = document.getroot()\n",
    "count = 0\n",
    "\n",
    "#Getting namespace out of the tags for easier use\n",
    "for child in root:\n",
    "    if child.tag.startswith(\"{\"):\n",
    "        child.tag = child.tag.split('}', 1)[1]\n",
    "for child in root:\n",
    "    for child2 in child:\n",
    "            if child2.tag.startswith(\"{\"):\n",
    "                child2.tag = child2.tag.split('}', 1)[1]\n",
    "\n",
    "for ele in root.findall('scan'):\n",
    "    count = count + 1\n",
    "\n",
    "print(\"There are\", count, \"spectra\")\n",
    "\n",
    "#Finding scans that match the data given\n",
    "count = 0\n",
    "for ele in root.findall('scan'):\n",
    "    lvl = ele.get('msLevel')\n",
    "    if lvl == \"2\":\n",
    "        count = count + 1;\n",
    "        \n",
    "print(\"There are\", count, \"spectra with msLevel 2\")\n",
    "\n",
    "#Finding spectra with value between 600 and 920 Da\n",
    "count = 0\n",
    "for ele in root.findall('scan'):\n",
    "    for ele2 in ele.findall('precursorMz'):\n",
    "        mz = float(ele2.text)\n",
    "        if (600 <= mz <= 920):\n",
    "            count = count + 1;\n",
    "        \n",
    "print(\"There are\", count, \"spectra with precursor m/z between 600 and 920 Da\")\n"
   ]
  },
  {
   "cell_type": "code",
   "execution_count": 36,
   "metadata": {},
   "outputs": [
    {
     "name": "stdout",
     "output_type": "stream",
     "text": [
      "Started\n",
      "Done\n"
     ]
    }
   ],
   "source": [
    "# Problem 3 Part A - This would be good for taking found sequences and being able to check patterns against know databases for similarities.\n",
    "from Bio.Blast import NCBIWWW\n",
    "\n",
    "print(\"Started\")\n",
    "sequence_data = open(\"HW 7 Data 3.fasta\").read()\n",
    "result_handle = NCBIWWW.qblast(\"blastn\", \"nt\", sequence_data)\n",
    "result_handle\n",
    "\n",
    "with open('HW 7 Output 3.XML', 'w') as save_file:\n",
    "    blast_results = result_handle.read()\n",
    "    save_file.write(blast_results)\n",
    "print(\"Done\")"
   ]
  },
  {
   "cell_type": "code",
   "execution_count": 54,
   "metadata": {},
   "outputs": [
    {
     "name": "stdout",
     "output_type": "stream",
     "text": [
      "End\n"
     ]
    }
   ],
   "source": [
    "#Problem 3 Part B - This would be good for taking your results from BLAST and using them in a way to obtain the information you are interested in by applying parameters.\n",
    "import xml.etree.ElementTree as ET\n",
    "document = ET.parse (\"HW 7 Output 3.XML\")\n",
    "root = document.getroot()\n",
    "evalue = 1e-80\n",
    "count = 0\n",
    "\n",
    "for ele in root.findall('BlastOutput_iterations'):\n",
    "    for ele2 in ele.findall('Iteration'):\n",
    "        for ele3 in ele2.findall('Iteration_hits'):\n",
    "            for ele4 in ele3.findall('Hit'):\n",
    "                for ele5 in ele4.findall('Hit_hsps'):\n",
    "                    for ele5 in ele4.findall('Hsp'):\n",
    "                        test = float(ele3.find('Hsp_evalue'))\n",
    "                        if((test < evalue) and (count < 100) ):\n",
    "                           print(ele.find('Hit_id'), ele.find('Hit_len'), ele3.find('Hsp_score'), ele3.find('Hsp_evalue'))\n",
    "                           count = count + 1\n",
    "               \n",
    "print(\"End\")"
   ]
  },
  {
   "cell_type": "code",
   "execution_count": null,
   "metadata": {},
   "outputs": [],
   "source": []
  }
 ],
 "metadata": {
  "kernelspec": {
   "display_name": "Python 3",
   "language": "python",
   "name": "python3"
  }
 },
 "nbformat": 4,
 "nbformat_minor": 4
}
